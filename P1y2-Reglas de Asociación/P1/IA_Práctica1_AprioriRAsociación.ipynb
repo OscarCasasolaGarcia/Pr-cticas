{
 "cells": [
  {
   "cell_type": "markdown",
   "metadata": {
    "id": "DXTRXd0q3zwY"
   },
   "source": [
    "## **Práctica 1: Reglas de asociación**\n",
    "\n",
    "Nombre: Casasola García Oscar\n",
    "\n",
    "Nro. Cuenta: 316123747\n",
    "\n",
    "Email: oscar.casasola.g7@gmail.com"
   ]
  },
  {
   "cell_type": "markdown",
   "metadata": {
    "id": "THK2pw2g4Yzy"
   },
   "source": [
    "**Objetivo**\n",
    "\n",
    "Obtener reglas de asociación a partir de datos obtenidos de una plataforma de películas, donde los clientes pueden rentar o comprar este tipo de contenidos. \n",
    "\n",
    "**Características**\n",
    "\n",
    "* Por lo general, existe un patrón en lo que ven los clientes. Por ejemplo, superhéroes en la categoría para niños.\n",
    "* En este sentido, se pueden generar más ganancias, si se puede identificar la relación entre las películas. Esto es, si las películas A y B se rentan juntas, este patrón se puede aprovechar para aumentar las ganancias.\n",
    "* Las personas que rentan una de estas películas pueden ser empujadas a rentar o comprar la otra, a través de campañas o sugerencias dentro de la plataforma.\n",
    "* En este sentido, cada vez es común familiarizarse con los motores de recomendación en Netflix, Amazon, por nombrar los más destacados."
   ]
  },
  {
   "cell_type": "markdown",
   "metadata": {
    "id": "QrsZmgki4iB5"
   },
   "source": [
    "#### **1) Importar las bibliotecas necesarias**"
   ]
  },
  {
   "cell_type": "code",
   "execution_count": 5,
   "metadata": {
    "id": "iG6gmJip4mlo"
   },
   "outputs": [
    {
     "name": "stdout",
     "output_type": "stream",
     "text": [
      "Collecting apyori\n",
      "  Downloading apyori-1.1.2.tar.gz (8.6 kB)\n",
      "Building wheels for collected packages: apyori\n",
      "  Building wheel for apyori (setup.py): started\n",
      "  Building wheel for apyori (setup.py): finished with status 'done'\n",
      "  Created wheel for apyori: filename=apyori-1.1.2-py3-none-any.whl size=5974 sha256=b350ca44d49590324d4642d6f1e5be3d5ff32f90d54f640406cff84065fbf1d2\n",
      "  Stored in directory: c:\\users\\johnc\\appdata\\local\\pip\\cache\\wheels\\1b\\02\\6c\\a45230be8603bd95c0a51cd2b289aefdd860c1a100eab73661\n",
      "Successfully built apyori\n",
      "Installing collected packages: apyori\n",
      "Successfully installed apyori-1.1.2\n"
     ]
    }
   ],
   "source": [
    "!pip install apyori # pip es un administrador de paquetes de Python. Se instala el paquete Apyori "
   ]
  },
  {
   "cell_type": "code",
   "execution_count": 6,
   "metadata": {
    "id": "iVun7QlB4uSY"
   },
   "outputs": [],
   "source": [
    "import pandas as pd                 # Para la manipulación y análisis de los datos\n",
    "import numpy as np                  # Para crear vectores y matrices n dimensionales\n",
    "import matplotlib.pyplot as plt     # Para la generación de gráficas a partir de los datos\n",
    "from apyori import apriori"
   ]
  },
  {
   "cell_type": "markdown",
   "metadata": {
    "id": "L5HflmTR40DL"
   },
   "source": [
    "#### **2) Importar los datos**\n",
    "\n",
    "Fuente de datos: movie_dataset.csv"
   ]
  },
  {
   "cell_type": "code",
   "execution_count": 7,
   "metadata": {
    "id": "0h3MsUkR5AKK"
   },
   "outputs": [
    {
     "ename": "ModuleNotFoundError",
     "evalue": "No module named 'google.colab'",
     "output_type": "error",
     "traceback": [
      "\u001b[1;31m---------------------------------------------------------------------------\u001b[0m",
      "\u001b[1;31mModuleNotFoundError\u001b[0m                       Traceback (most recent call last)",
      "\u001b[1;32m~\\AppData\\Local\\Temp/ipykernel_16312/1613494533.py\u001b[0m in \u001b[0;36m<module>\u001b[1;34m\u001b[0m\n\u001b[1;32m----> 1\u001b[1;33m \u001b[1;32mfrom\u001b[0m \u001b[0mgoogle\u001b[0m\u001b[1;33m.\u001b[0m\u001b[0mcolab\u001b[0m \u001b[1;32mimport\u001b[0m \u001b[0mfiles\u001b[0m\u001b[1;33m\u001b[0m\u001b[1;33m\u001b[0m\u001b[0m\n\u001b[0m\u001b[0;32m      2\u001b[0m \u001b[0mfiles\u001b[0m\u001b[1;33m.\u001b[0m\u001b[0mupload\u001b[0m\u001b[1;33m(\u001b[0m\u001b[1;33m)\u001b[0m\u001b[1;33m\u001b[0m\u001b[1;33m\u001b[0m\u001b[0m\n",
      "\u001b[1;31mModuleNotFoundError\u001b[0m: No module named 'google.colab'"
     ]
    }
   ],
   "source": [
    "from google.colab import files\n",
    "files.upload()"
   ]
  },
  {
   "cell_type": "code",
   "execution_count": null,
   "metadata": {
    "id": "56EYnk9G5EVn"
   },
   "outputs": [],
   "source": [
    "DatosMovies = pd.read_csv('movies.csv')"
   ]
  },
  {
   "cell_type": "code",
   "execution_count": null,
   "metadata": {
    "id": "xMZGsapA5GqC"
   },
   "outputs": [],
   "source": [
    "DatosMovies"
   ]
  },
  {
   "cell_type": "markdown",
   "metadata": {
    "id": "Ri6n2xIK5QPZ"
   },
   "source": [
    "**Observaciones:**\n",
    "\n",
    "1) Se observa que el encabezado es la primera transacción.\n",
    "\n",
    "2) NaN indica que esa película no fue rentada o comprada en esa transacción."
   ]
  },
  {
   "cell_type": "code",
   "execution_count": null,
   "metadata": {
    "id": "AT-ppQZK5ToB"
   },
   "outputs": [],
   "source": [
    "DatosMovies = pd.read_csv('movies.csv', header=None)\n",
    "DatosMovies.head(6)"
   ]
  },
  {
   "cell_type": "markdown",
   "metadata": {
    "id": "LQR14mvS5Wrj"
   },
   "source": [
    "#### **3) Procesamiento de los datos**"
   ]
  },
  {
   "cell_type": "markdown",
   "metadata": {
    "id": "piT2znm-5cN5"
   },
   "source": [
    "**Exploración**\n",
    "\n",
    "Antes de ejecutar el algoritmo es recomendable observar la distribución de la frecuencia de los elementos."
   ]
  },
  {
   "cell_type": "code",
   "execution_count": null,
   "metadata": {
    "id": "edqIxxAj5gfM"
   },
   "outputs": [],
   "source": [
    "#Se incluyen todas las transacciones en una sola lista\n",
    "Transacciones = DatosMovies.values.reshape(-1).tolist() #-1 significa 'dimensión desconocida'\n",
    "\n",
    "#Se crea una matriz (dataframe) usando la lista y se incluye una columna 'Frecuencia'\n",
    "Lista = pd.DataFrame(Transacciones)\n",
    "Lista['Frecuencia'] = 1\n",
    "\n",
    "#Se agrupa los elementos\n",
    "Lista = Lista.groupby(by=[0], as_index=False).count().sort_values(by=['Frecuencia'], ascending=True) #Conteo\n",
    "Lista['Porcentaje'] = (Lista['Frecuencia'] / Lista['Frecuencia'].sum()) #Porcentaje\n",
    "Lista = Lista.rename(columns={0 : 'Item'})\n",
    "\n",
    "#Se muestra la lista\n",
    "Lista"
   ]
  },
  {
   "cell_type": "code",
   "execution_count": null,
   "metadata": {
    "id": "BUn2xENB5lB8"
   },
   "outputs": [],
   "source": [
    "# Se genera un gráfico de barras\n",
    "plt.figure(figsize=(16,20), dpi=300)\n",
    "plt.ylabel('Item')\n",
    "plt.xlabel('Frecuencia')\n",
    "plt.barh(Lista['Item'], width=Lista['Frecuencia'], color='blue')\n",
    "plt.show()"
   ]
  },
  {
   "cell_type": "markdown",
   "metadata": {
    "id": "mPuCTNUf5pCS"
   },
   "source": [
    "**Preparación**\n",
    "\n",
    "La función Apriori de Python requiere que el conjunto de datos tenga la forma de una lista de listas, donde cada transacción es una lista interna dentro de una gran lista. \n",
    "\n",
    "Los datos actuales están en un dataframe de Pandas, por lo que, se requiere convertir en una lista."
   ]
  },
  {
   "cell_type": "code",
   "execution_count": null,
   "metadata": {
    "id": "JVy8yikN5twC"
   },
   "outputs": [],
   "source": [
    "#Se crea una lista de listas a partir del dataframe y se remueven los 'NaN'\n",
    "#level=0 especifica desde el primer índice\n",
    "MoviesLista = DatosMovies.stack().groupby(level=0).apply(list).tolist()\n",
    "MoviesLista "
   ]
  },
  {
   "cell_type": "code",
   "execution_count": null,
   "metadata": {
    "id": "KeySqo7C55zh"
   },
   "outputs": [],
   "source": [
    "#MoviesLista = []\n",
    "#for i in range(0, 7459):\n",
    "#  MoviesLista.append([str(DatosMovies.values[i,j]) for j in range(0, 20)])\n",
    "\n",
    "#NuevaLista = []\n",
    "#for item in MoviesLista:\n",
    "#  if str(item) != 'nan':\n",
    "#    NuevaLista.append(item)\n",
    "#print(NuevaLista)"
   ]
  },
  {
   "cell_type": "markdown",
   "metadata": {
    "id": "syQ9UWxn57cu"
   },
   "source": [
    "#### **4) Aplicación del algoritmo**"
   ]
  },
  {
   "cell_type": "markdown",
   "metadata": {
    "id": "T0Wxtl0b6Aq5"
   },
   "source": [
    "**Configuración 1**\n",
    "\n",
    "Obtener reglas para aquellas películas que se hayan rentado al menos 10 veces en un día (70 veces en una semana):\n",
    "\n",
    "i) El soporte mínimo se calcula de 70/7460 = 0.00938 (1%).\u000b",
    "\n",
    "\n",
    "ii) La confianza mínima para las reglas de 30%\n",
    "\n",
    "iii) La elevación de 2.\u000b",
    "\n",
    "\n",
    "**Observación:** Estos valores se eligen arbitrariamente, por lo que, se recomienda probar valores y analizar la diferencia en las reglas."
   ]
  },
  {
   "cell_type": "code",
   "execution_count": null,
   "metadata": {
    "id": "h17efJ046D0o"
   },
   "outputs": [],
   "source": [
    "ReglasC1 = apriori(MoviesLista, \n",
    "                   min_support=0.01, \n",
    "                   min_confidence=0.3, \n",
    "                   min_lift=2)"
   ]
  },
  {
   "cell_type": "markdown",
   "metadata": {
    "id": "uYdPPqgZ6Gwm"
   },
   "source": [
    "Se convierte las reglas encontradas por la clase apriori en una lista, puesto que es más fácil ver los resultados."
   ]
  },
  {
   "cell_type": "code",
   "execution_count": null,
   "metadata": {
    "id": "EnJHvWaa6JlS"
   },
   "outputs": [],
   "source": [
    "ResultadosC1 = list(ReglasC1)\n",
    "print(len(ResultadosC1)) #Total de reglas encontradas "
   ]
  },
  {
   "cell_type": "code",
   "execution_count": null,
   "metadata": {
    "id": "fZx-O0496MDb"
   },
   "outputs": [],
   "source": [
    "ResultadosC1"
   ]
  },
  {
   "cell_type": "code",
   "execution_count": null,
   "metadata": {
    "id": "sMcPlNHa6OPM"
   },
   "outputs": [],
   "source": [
    "pd.DataFrame(ResultadosC1)"
   ]
  },
  {
   "cell_type": "markdown",
   "metadata": {
    "id": "n1FU5pNf6SAX"
   },
   "source": [
    "Son 9 reglas. A manera de ejemplo se imprime la primera regla:"
   ]
  },
  {
   "cell_type": "code",
   "execution_count": null,
   "metadata": {
    "id": "gjzpkRmy6V-I"
   },
   "outputs": [],
   "source": [
    "print(ResultadosC1[0])"
   ]
  },
  {
   "cell_type": "markdown",
   "metadata": {
    "id": "EHPavLhv6Z2e"
   },
   "source": [
    "La primera regla contiene dos elementos: **'Kung Fu Panda'** y **'Jumanji'** que se vieron juntos.\n",
    "\n",
    "* Esto tiene sentido, las personas que ven películas familiares, en este caso de corte infantil, suelen ver también más películas del mismo tipo, como Kung Fu Panda (2016) y Jumanji (2017).\n",
    "\n",
    "* El soporte es de 0.016 (1.6%), la confianza de 0.32 (32%) y elevación de 3.27, esto representa que existe 3 veces más probabilidades de que los que vean Kung Fu Panda miren también Jumanji, o viceversa."
   ]
  },
  {
   "cell_type": "code",
   "execution_count": null,
   "metadata": {
    "id": "17LJsMpp6cle"
   },
   "outputs": [],
   "source": [
    "print(ResultadosC1[1])\n",
    "print(ResultadosC1[2])"
   ]
  },
  {
   "cell_type": "code",
   "execution_count": null,
   "metadata": {
    "id": "JMtJEJ3I6fbJ"
   },
   "outputs": [],
   "source": [
    "for item in ResultadosC1:\n",
    "  #El primer índice de la lista\n",
    "  Emparejar = item[0]\n",
    "  items = [x for x in Emparejar]\n",
    "  print(\"Regla: \" + str(item[0]))\n",
    "\n",
    "  #El segundo índice de la lista\n",
    "  print(\"Soporte: \" + str(item[1]))\n",
    "\n",
    "  #El tercer índice de la lista\n",
    "  print(\"Confianza: \" + str(item[2][0][2]))\n",
    "  print(\"Lift: \" + str(item[2][0][3])) \n",
    "  print(\"=====================================\") "
   ]
  },
  {
   "cell_type": "markdown",
   "metadata": {
    "id": "YEFXSiPA6jCk"
   },
   "source": [
    "**Configuración 2**\n",
    "\n",
    "Obtener reglas para aquellas películas que se hayan visto al menos 210 veces a la semana (30 por día):\n",
    "\n",
    "i) El soporte mínimo se calcula de 210/7460 = 0.028 (2.8%).\n",
    "\n",
    "ii) La confianza mínima para las reglas de 30%.\n",
    "\n",
    "iii) La elevación mayor a 1."
   ]
  },
  {
   "cell_type": "code",
   "execution_count": null,
   "metadata": {
    "id": "ZCLPv2H86l68"
   },
   "outputs": [],
   "source": [
    "ReglasC2 = apriori(MoviesLista, \n",
    "                   min_support=0.028, \n",
    "                   min_confidence=0.3, \n",
    "                   min_lift = 1.01)"
   ]
  },
  {
   "cell_type": "code",
   "execution_count": null,
   "metadata": {
    "id": "7-nme5S96nmN"
   },
   "outputs": [],
   "source": [
    "ResultadosC2 = list(ReglasC2)\n",
    "print(len(ResultadosC2))"
   ]
  },
  {
   "cell_type": "code",
   "execution_count": null,
   "metadata": {
    "id": "6-ORRQ7l6plG"
   },
   "outputs": [],
   "source": [
    "ResultadosC2 "
   ]
  },
  {
   "cell_type": "code",
   "execution_count": null,
   "metadata": {
    "id": "UKGPwA4V6r2-"
   },
   "outputs": [],
   "source": [
    "pd.DataFrame(ResultadosC2)"
   ]
  },
  {
   "cell_type": "code",
   "execution_count": null,
   "metadata": {
    "id": "pHYdVq286u6p"
   },
   "outputs": [],
   "source": [
    "print(ResultadosC2[0])"
   ]
  },
  {
   "cell_type": "markdown",
   "metadata": {
    "id": "3Qz6fNou6yQ8"
   },
   "source": [
    "La primera regla contiene dos elementos: **'Get Out'** y **'Beirut'** que se vieron juntos.\n",
    "\n",
    "Esto también tiene sentido, las personas que ven películas de espionaje, como Beirut (2018), tienen gustos afines con películas de terror, como Get Out (2017).\n",
    "\n",
    "El soporte es de 0.028 (2.8%), la confianza de 0.33 (33%) y una elevación de 1.83, esto representa que existe casi 2 veces más probabilidades de que los que vean Get Out miren también Beirut, o viceversa."
   ]
  },
  {
   "cell_type": "code",
   "execution_count": null,
   "metadata": {
    "id": "BXcZfOB361um"
   },
   "outputs": [],
   "source": [
    "print(ResultadosC2[1])\n",
    "print(ResultadosC2[2])"
   ]
  },
  {
   "cell_type": "code",
   "execution_count": null,
   "metadata": {
    "id": "qKYjWL1463wJ"
   },
   "outputs": [],
   "source": [
    "for item in ResultadosC2:\n",
    "  #El primer índice de la lista\n",
    "  Emparejar = item[0]\n",
    "  items = [x for x in Emparejar]\n",
    "  print(\"Regla: \" + str(item[0]))\n",
    "\n",
    "  #El segundo índice de la lista\n",
    "  print(\"Soporte: \" + str(item[1]))\n",
    "\n",
    "  #El tercer índice de la lista\n",
    "  print(\"Confianza: \" + str(item[2][0][2]))\n",
    "  print(\"Lift: \" + str(item[2][0][3])) \n",
    "  print(\"=====================================\") "
   ]
  }
 ],
 "metadata": {
  "colab": {
   "collapsed_sections": [],
   "name": "IA-Práctica1-AprioriRAsociación.ipynb",
   "provenance": [],
   "toc_visible": true
  },
  "kernelspec": {
   "display_name": "Python 3 (ipykernel)",
   "language": "python",
   "name": "python3"
  },
  "language_info": {
   "codemirror_mode": {
    "name": "ipython",
    "version": 3
   },
   "file_extension": ".py",
   "mimetype": "text/x-python",
   "name": "python",
   "nbconvert_exporter": "python",
   "pygments_lexer": "ipython3",
   "version": "3.8.11"
  }
 },
 "nbformat": 4,
 "nbformat_minor": 4
}
